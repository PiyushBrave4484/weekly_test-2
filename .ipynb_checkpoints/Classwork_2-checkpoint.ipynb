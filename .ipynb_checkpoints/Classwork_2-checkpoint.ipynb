{
 "cells": [
  {
   "cell_type": "code",
   "execution_count": 1,
   "id": "f53ea3b4-f952-4284-bd60-6148f57d1141",
   "metadata": {},
   "outputs": [],
   "source": [
    "import os\n",
    "import shutil"
   ]
  },
  {
   "cell_type": "code",
   "execution_count": 3,
   "id": "a91c8215-c0c5-4be5-a68f-1eb132d41cb5",
   "metadata": {},
   "outputs": [
    {
     "data": {
      "text/plain": [
       "'C:\\\\Users\\\\PIYUSH KADAM\\\\Desktop\\\\Python module-4'"
      ]
     },
     "execution_count": 3,
     "metadata": {},
     "output_type": "execute_result"
    }
   ],
   "source": [
    "pwd"
   ]
  },
  {
   "cell_type": "code",
   "execution_count": 5,
   "id": "2f4c9d43-5801-4135-9a20-4a3feb38dbae",
   "metadata": {},
   "outputs": [],
   "source": [
    "os.mkdir(\"Classwork_2\")"
   ]
  },
  {
   "cell_type": "code",
   "execution_count": 7,
   "id": "c4972045-e23d-47d0-ac2d-d17a8517ace7",
   "metadata": {},
   "outputs": [
    {
     "name": "stdout",
     "output_type": "stream",
     "text": [
      "['.git', '.ipynb_checkpoints', 'Classwork_2', 'CW_2.ipynb', 'DAY 1 ClassWork', 'DAY 1 Homework', 'DAY 2 Homework', 'Day_4_file_handling.ipynb', 'demo1.txt', 'git', 'Learn_with_geekster.', 'list1.txt', 'list2.txt', 'mentorness_git_hub', 'new1', 'new2', 'new_1', 'piyush_dummy', 'second.txt', 'Untitled.ipynb', 'Web_Scrapping_bs4.ipynb', 'WT-1']\n"
     ]
    }
   ],
   "source": [
    "print(os.listdir())"
   ]
  },
  {
   "cell_type": "code",
   "execution_count": 13,
   "id": "07860ce7-0b89-457d-9ae0-9079adc0465e",
   "metadata": {},
   "outputs": [],
   "source": [
    "file_path=os.path.join(\"Classwork_2\",\"first.txt\")\n",
    "with open(file_path,\"w\") as f:\n",
    "    f.write(\"Hello, this is the first file.\")"
   ]
  },
  {
   "cell_type": "code",
   "execution_count": 15,
   "id": "7596cb96-0075-42af-b26b-adfdbe4c1429",
   "metadata": {},
   "outputs": [
    {
     "name": "stdout",
     "output_type": "stream",
     "text": [
      "Hello, this is the first file.\n"
     ]
    }
   ],
   "source": [
    "with open(file_path,\"r\") as f:\n",
    "    print(f.read())"
   ]
  },
  {
   "cell_type": "code",
   "execution_count": 17,
   "id": "5cc535b2-cd26-4a70-af2f-2107aef36772",
   "metadata": {},
   "outputs": [],
   "source": [
    "new_file_path=os.path.join(\"Classwork_2\",\"file_renamed.txt\")\n",
    "os.rename(file_path,new_file_path)"
   ]
  },
  {
   "cell_type": "code",
   "execution_count": 21,
   "id": "b0512fca-46ac-4c17-a97e-79fb0cda1fc1",
   "metadata": {},
   "outputs": [
    {
     "name": "stdout",
     "output_type": "stream",
     "text": [
      "['file_renamed.txt']\n"
     ]
    }
   ],
   "source": [
    "print(os.listdir(\"Classwork_2\"))"
   ]
  },
  {
   "cell_type": "code",
   "execution_count": null,
   "id": "8ce458fb-9fa6-492a-aeef-8058faee82e7",
   "metadata": {},
   "outputs": [],
   "source": []
  },
  {
   "cell_type": "code",
   "execution_count": null,
   "id": "1a719314-9c22-448e-8973-1dd027b75631",
   "metadata": {},
   "outputs": [],
   "source": []
  },
  {
   "cell_type": "code",
   "execution_count": null,
   "id": "9c315d4a-7304-4305-a605-4f29ccdaf4e6",
   "metadata": {},
   "outputs": [],
   "source": []
  }
 ],
 "metadata": {
  "kernelspec": {
   "display_name": "Python 3 (ipykernel)",
   "language": "python",
   "name": "python3"
  },
  "language_info": {
   "codemirror_mode": {
    "name": "ipython",
    "version": 3
   },
   "file_extension": ".py",
   "mimetype": "text/x-python",
   "name": "python",
   "nbconvert_exporter": "python",
   "pygments_lexer": "ipython3",
   "version": "3.12.4"
  }
 },
 "nbformat": 4,
 "nbformat_minor": 5
}
