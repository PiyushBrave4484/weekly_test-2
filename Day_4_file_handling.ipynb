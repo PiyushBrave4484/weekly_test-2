{
 "cells": [
  {
   "cell_type": "markdown",
   "id": "ad71c32a-03e8-4d4d-ac68-d95042fc63c9",
   "metadata": {},
   "source": [
    "# File Handling"
   ]
  },
  {
   "cell_type": "markdown",
   "id": "48320b39-f214-489a-b6d2-983ded55b522",
   "metadata": {},
   "source": [
    "# Write operation"
   ]
  },
  {
   "cell_type": "code",
   "execution_count": 3,
   "id": "b484f911-2111-4946-ace1-2a63e9fb949c",
   "metadata": {},
   "outputs": [],
   "source": [
    "with open (\"demo1.txt\",\"w\") as f:\n",
    "    f.write(\"Piyush Kadam is my name and i am learning EDA\")"
   ]
  },
  {
   "cell_type": "markdown",
   "id": "3b3fc737-521a-4783-8edc-c5fb7a22818d",
   "metadata": {},
   "source": [
    "# Read operation"
   ]
  },
  {
   "cell_type": "code",
   "execution_count": null,
   "id": "ed924ad1-1245-4a5e-ac04-bb54eb87b625",
   "metadata": {},
   "outputs": [],
   "source": [
    "with open (\"demo1.txt\") as f:\n",
    "    print(f.read())"
   ]
  },
  {
   "cell_type": "markdown",
   "id": "6e455c58-75cd-4820-ac79-f4fd3ecfec35",
   "metadata": {},
   "source": [
    "# Writelines opearation (which add list )"
   ]
  },
  {
   "cell_type": "code",
   "execution_count": 17,
   "id": "67cb0be1-1f43-4d33-a221-29af1282eb16",
   "metadata": {},
   "outputs": [],
   "source": [
    "with open (\"demo1.txt\",\"w\") as f:\n",
    "    list=[\"piyush\\n\",\"ganesh\\n\",\"navin\\n\"]\n",
    "    f.writelines(list)\n",
    "    "
   ]
  },
  {
   "cell_type": "code",
   "execution_count": 19,
   "id": "e36d3db5-5257-45c3-a86b-8470ec6cf3b3",
   "metadata": {},
   "outputs": [
    {
     "name": "stdout",
     "output_type": "stream",
     "text": [
      "piyush\n",
      "ganesh\n",
      "navin\n",
      "\n"
     ]
    }
   ],
   "source": [
    "with open (\"demo1.txt\") as f:\n",
    "    print(f.read())"
   ]
  },
  {
   "cell_type": "markdown",
   "id": "7d2c4472-79af-42fb-af13-1f59551775e9",
   "metadata": {},
   "source": [
    "# 0 to 100 store in my file"
   ]
  },
  {
   "cell_type": "code",
   "execution_count": 30,
   "id": "90159530-5315-4d8d-a76c-987f3fc5d91b",
   "metadata": {},
   "outputs": [],
   "source": [
    "with open(\"list2.txt\",\"w\") as f:\n",
    "    l=[]\n",
    "    for i in range(100):\n",
    "        l.append(str(i)+\"\\n\")\n",
    "    f.writelines(l)\n"
   ]
  },
  {
   "cell_type": "code",
   "execution_count": 34,
   "id": "02b606e4-29e4-4c18-a8d2-9d0a32813adc",
   "metadata": {},
   "outputs": [
    {
     "name": "stdout",
     "output_type": "stream",
     "text": [
      "0\n",
      "1\n",
      "2\n",
      "3\n",
      "4\n",
      "5\n",
      "6\n",
      "7\n",
      "8\n",
      "9\n",
      "10\n",
      "11\n",
      "12\n",
      "13\n",
      "14\n",
      "15\n",
      "16\n",
      "17\n",
      "18\n",
      "19\n",
      "20\n",
      "21\n",
      "22\n",
      "23\n",
      "24\n",
      "25\n",
      "26\n",
      "27\n",
      "28\n",
      "29\n",
      "30\n",
      "31\n",
      "32\n",
      "33\n",
      "34\n",
      "35\n",
      "36\n",
      "37\n",
      "38\n",
      "39\n",
      "40\n",
      "41\n",
      "42\n",
      "43\n",
      "44\n",
      "45\n",
      "46\n",
      "47\n",
      "48\n",
      "49\n",
      "50\n",
      "51\n",
      "52\n",
      "53\n",
      "54\n",
      "55\n",
      "56\n",
      "57\n",
      "58\n",
      "59\n",
      "60\n",
      "61\n",
      "62\n",
      "63\n",
      "64\n",
      "65\n",
      "66\n",
      "67\n",
      "68\n",
      "69\n",
      "70\n",
      "71\n",
      "72\n",
      "73\n",
      "74\n",
      "75\n",
      "76\n",
      "77\n",
      "78\n",
      "79\n",
      "80\n",
      "81\n",
      "82\n",
      "83\n",
      "84\n",
      "85\n",
      "86\n",
      "87\n",
      "88\n",
      "89\n",
      "90\n",
      "91\n",
      "92\n",
      "93\n",
      "94\n",
      "95\n",
      "96\n",
      "97\n",
      "98\n",
      "99\n",
      "\n"
     ]
    }
   ],
   "source": [
    "with open(\"list2.txt\",\"r\") as f:\n",
    "    print(f.read())"
   ]
  },
  {
   "cell_type": "code",
   "execution_count": 36,
   "id": "e308f29f-9f46-4272-9f05-b3dadadc7bdb",
   "metadata": {},
   "outputs": [
    {
     "data": {
      "text/plain": [
       "'C:\\\\Users\\\\PIYUSH KADAM\\\\Desktop\\\\Python module-4'"
      ]
     },
     "execution_count": 36,
     "metadata": {},
     "output_type": "execute_result"
    }
   ],
   "source": [
    "pwd"
   ]
  },
  {
   "cell_type": "code",
   "execution_count": 38,
   "id": "d5291945-ab55-474c-8a19-0d8f9c5714d0",
   "metadata": {},
   "outputs": [
    {
     "name": "stdout",
     "output_type": "stream",
     "text": [
      "0\n",
      "1\n",
      "2\n",
      "3\n",
      "4\n",
      "\n"
     ]
    }
   ],
   "source": [
    "with open(\"list2.txt\",\"r\") as f:\n",
    "    print(f.read(10))"
   ]
  },
  {
   "cell_type": "markdown",
   "id": "19286218-21b1-4296-a5fe-fd42d6b0e20f",
   "metadata": {},
   "source": [
    "# append opeartion in file handling"
   ]
  },
  {
   "cell_type": "code",
   "execution_count": 57,
   "id": "46e7bba1-7598-4fe4-884d-a93176e1405e",
   "metadata": {},
   "outputs": [],
   "source": [
    "with open (\"demo1.txt\",\"a\") as f:\n",
    "    f.write(\"My name is piyush and i am king\")"
   ]
  },
  {
   "cell_type": "code",
   "execution_count": 51,
   "id": "571e49cb-8327-4aa8-a550-8a19013e8789",
   "metadata": {},
   "outputs": [
    {
     "name": "stdout",
     "output_type": "stream",
     "text": [
      "piyush\n",
      "ganesh\n",
      "navin\n",
      "My name is piyush and i am king\n"
     ]
    }
   ],
   "source": [
    "with open (\"demo1.txt\",\"r\") as f:\n",
    "    print(f.read())"
   ]
  },
  {
   "cell_type": "code",
   "execution_count": 61,
   "id": "af358083-db67-43d3-8b36-cdadd27480c0",
   "metadata": {},
   "outputs": [],
   "source": [
    "with open (\"demo1.txt\",\"a\") as f:\n",
    "    list=[\"Nana\\n\",\"Dada\\n\",\"Ravi\\n\"]\n",
    "    f.writelines(list)"
   ]
  },
  {
   "cell_type": "code",
   "execution_count": 63,
   "id": "9d858745-c1da-45a3-b3a4-de4df39db536",
   "metadata": {},
   "outputs": [
    {
     "name": "stdout",
     "output_type": "stream",
     "text": [
      "NanaDadaRaviMy name is piyush and i am kingNana\n",
      "Dada\n",
      "Ravi\n",
      "\n"
     ]
    }
   ],
   "source": [
    "with open (\"demo1.txt\",\"r\") as f:\n",
    "    print(f.read())"
   ]
  },
  {
   "cell_type": "code",
   "execution_count": 65,
   "id": "26248208-464b-4849-a231-dc7482474479",
   "metadata": {},
   "outputs": [],
   "source": [
    "with open (\"demo1.txt\",\"w\") as f:\n",
    "    f.write(\"My name is piyush and i am king\")"
   ]
  },
  {
   "cell_type": "code",
   "execution_count": 67,
   "id": "546351c0-ff58-4fcb-a530-5ec15050d67f",
   "metadata": {},
   "outputs": [
    {
     "name": "stdout",
     "output_type": "stream",
     "text": [
      "My name is piyush and i am king\n"
     ]
    }
   ],
   "source": [
    "with open (\"demo1.txt\",\"r\") as f:\n",
    "    print(f.read())"
   ]
  },
  {
   "cell_type": "markdown",
   "id": "b9b54e3e-e3f0-44b5-a330-97b6286107b3",
   "metadata": {},
   "source": [
    "# r+ mode opearation"
   ]
  },
  {
   "cell_type": "code",
   "execution_count": 70,
   "id": "4ccd2138-478d-428b-9d13-3fdebda8c51a",
   "metadata": {},
   "outputs": [
    {
     "name": "stdout",
     "output_type": "stream",
     "text": [
      "My name is piyush and i am king\n"
     ]
    }
   ],
   "source": [
    "with open (\"demo1.txt\",\"r+\") as f:\n",
    "    print(f.read())\n",
    "    f.write(\"\\n You can call me abhi\")"
   ]
  },
  {
   "cell_type": "code",
   "execution_count": 72,
   "id": "3c847b31-e6b6-41a7-a09e-e316e782b620",
   "metadata": {},
   "outputs": [
    {
     "name": "stdout",
     "output_type": "stream",
     "text": [
      "My name is piyush and i am king\n",
      " You can call me abhi\n"
     ]
    }
   ],
   "source": [
    "with open(\"demo1.txt\",\"r\") as f:\n",
    "    print(f.read())"
   ]
  },
  {
   "cell_type": "code",
   "execution_count": null,
   "id": "a3c71038-5052-4326-9dc1-7be4ab8f3c8d",
   "metadata": {},
   "outputs": [],
   "source": []
  },
  {
   "cell_type": "code",
   "execution_count": null,
   "id": "264381fc-ed1a-4d22-9fb0-f96a72098e4e",
   "metadata": {},
   "outputs": [],
   "source": []
  },
  {
   "cell_type": "code",
   "execution_count": null,
   "id": "dd6bc0c4-7489-4668-91f4-5da07b895c57",
   "metadata": {},
   "outputs": [],
   "source": []
  },
  {
   "cell_type": "code",
   "execution_count": null,
   "id": "fefdcaa4-8d91-47d9-aa3f-7fb04fe96d72",
   "metadata": {},
   "outputs": [],
   "source": []
  }
 ],
 "metadata": {
  "kernelspec": {
   "display_name": "Python 3 (ipykernel)",
   "language": "python",
   "name": "python3"
  },
  "language_info": {
   "codemirror_mode": {
    "name": "ipython",
    "version": 3
   },
   "file_extension": ".py",
   "mimetype": "text/x-python",
   "name": "python",
   "nbconvert_exporter": "python",
   "pygments_lexer": "ipython3",
   "version": "3.12.4"
  }
 },
 "nbformat": 4,
 "nbformat_minor": 5
}
